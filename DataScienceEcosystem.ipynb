{
 "cells": [
  {
   "cell_type": "markdown",
   "id": "ccca563b-2b94-4fac-8842-79d505a50fb2",
   "metadata": {},
   "source": [
    "# Data Science Tools and Ecosystem"
   ]
  },
  {
   "cell_type": "markdown",
   "id": "d097b773-04d3-4dbe-bbcc-5dba116ba5b7",
   "metadata": {},
   "source": [
    "**In this notebook, Data Science Tools and Ecosystem are summarized.**"
   ]
  },
  {
   "cell_type": "markdown",
   "id": "3830da39-38f2-4e4d-8abb-1c4eac6190f8",
   "metadata": {},
   "source": [
    "**Objectives:**\n",
    "* Some of the popular languages that Data Scientists use\n",
    "* Some of the commonly used libraries used by Data Scientists include\n",
    "* Data Science Tools"
   ]
  },
  {
   "cell_type": "markdown",
   "id": "00f5082e-6f99-4ff0-9663-c3f77ecfd1fc",
   "metadata": {},
   "source": [
    "Some of the popular languages that Data Scientists use:\n",
    "1. Pyton\n",
    "2. SQL\n",
    "3. R\n",
    "4. scala\n",
    "5. Java"
   ]
  },
  {
   "cell_type": "markdown",
   "id": "9d1c1826-750b-4993-a01e-fbc60e706365",
   "metadata": {},
   "source": [
    "### Some of the commonly used libraries used by Data Scientists include:\n",
    "1. Pandas\n",
    "2. NumPy\n",
    "3. TensorFlow"
   ]
  },
  {
   "cell_type": "markdown",
   "id": "56def719-ae63-4629-8e87-1d511079060e",
   "metadata": {},
   "source": [
    " | Data Science Tools|\n",
    " | ------------------|\n",
    " |Visual Studio|\n",
    " |Rstudio|\n",
    " |Jupitor nootbook|"
   ]
  },
  {
   "cell_type": "markdown",
   "id": "6e6d5a80-0cb3-4e11-929f-3bbfc300e8d1",
   "metadata": {},
   "source": [
    "### Below are a few examples of evaluating arithmetic expressions in Python."
   ]
  },
  {
   "cell_type": "code",
   "execution_count": 41,
   "id": "cf3d77f2-bc9e-43a3-9d69-5ce72bea64f0",
   "metadata": {},
   "outputs": [
    {
     "data": {
      "text/plain": [
       "17"
      ]
     },
     "execution_count": 41,
     "metadata": {},
     "output_type": "execute_result"
    }
   ],
   "source": [
    "# This a simple arithmetic expression to mutiply then add integers\n",
    "(3*4)+5"
   ]
  },
  {
   "cell_type": "code",
   "execution_count": 34,
   "id": "e9965e24-d397-419e-b880-3228ab956d22",
   "metadata": {},
   "outputs": [
    {
     "data": {
      "text/plain": [
       "3.3333333333333335"
      ]
     },
     "execution_count": 34,
     "metadata": {},
     "output_type": "execute_result"
    }
   ],
   "source": [
    "#This will convert 200 minutes to hours by diving by 60\n",
    "200/60"
   ]
  },
  {
   "cell_type": "markdown",
   "id": "58b0e376-3d7b-40ba-b6e4-caa81e78dfc2",
   "metadata": {},
   "source": [
    "## Author:\n",
    "Meghdad NR"
   ]
  }
 ],
 "metadata": {
  "kernelspec": {
   "display_name": "Python [conda env:base] *",
   "language": "python",
   "name": "conda-base-py"
  },
  "language_info": {
   "codemirror_mode": {
    "name": "ipython",
    "version": 3
   },
   "file_extension": ".py",
   "mimetype": "text/x-python",
   "name": "python",
   "nbconvert_exporter": "python",
   "pygments_lexer": "ipython3",
   "version": "3.12.7"
  }
 },
 "nbformat": 4,
 "nbformat_minor": 5
}
